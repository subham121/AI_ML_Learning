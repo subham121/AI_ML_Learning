{
 "nbformat": 4,
 "nbformat_minor": 0,
 "metadata": {
  "colab": {
   "name": "4-calculus-ii.ipynb",
   "provenance": []
  },
  "kernelspec": {
   "display_name": "Python 3",
   "language": "python",
   "name": "python3"
  },
  "language_info": {
   "codemirror_mode": {
    "name": "ipython",
    "version": 3
   },
   "file_extension": ".py",
   "mimetype": "text/x-python",
   "name": "python",
   "nbconvert_exporter": "python",
   "pygments_lexer": "ipython3",
   "version": "3.7.6"
  }
 },
 "cells": [
  {
   "cell_type": "markdown",
   "metadata": {
    "id": "MEsnrw0sDoeJ"
   },
   "source": [
    "<a href=\"https://colab.research.google.com/github/jonkrohn/ML-foundations/blob/master/notebooks/4-calculus-ii.ipynb\" target=\"_parent\"><img src=\"https://colab.research.google.com/assets/colab-badge.svg\" alt=\"Open In Colab\"/></a>"
   ]
  },
  {
   "cell_type": "markdown",
   "metadata": {
    "id": "9v7wHzEaDoeT"
   },
   "source": "##  Gradients Applied to Machine Learning"
  },
  {
   "cell_type": "code",
   "metadata": {
    "id": "-09IzaDRDoeU",
    "ExecuteTime": {
     "end_time": "2025-08-04T19:50:37.543998Z",
     "start_time": "2025-08-04T19:50:35.132850Z"
    }
   },
   "source": [
    "import numpy as np\n",
    "import matplotlib.pyplot as plt\n",
    "import torch\n",
    "import math # for constant pi"
   ],
   "outputs": [],
   "execution_count": 2
  },
  {
   "cell_type": "markdown",
   "metadata": {
    "id": "gmonXg8-DoeV"
   },
   "source": [
    "### Partial Derivatives of Multivariate Functions"
   ]
  },
  {
   "cell_type": "markdown",
   "metadata": {
    "id": "jt2Fb7bmDoeV"
   },
   "source": [
    "Define a function $f(x, y)$ for $z = x^2 - y^2$: "
   ]
  },
  {
   "cell_type": "code",
   "metadata": {
    "id": "Xb_f6pUYDoeV",
    "ExecuteTime": {
     "end_time": "2025-08-04T19:50:45.768808Z",
     "start_time": "2025-08-04T19:50:45.765498Z"
    }
   },
   "source": [
    "def f(my_x, my_y):\n",
    "    return my_x**2 - my_y**2"
   ],
   "outputs": [],
   "execution_count": 3
  },
  {
   "cell_type": "markdown",
   "metadata": {
    "id": "2Yxx42_UDoeV"
   },
   "source": [
    "Plot $z$ with respect to $x$ by varying $x$... "
   ]
  },
  {
   "cell_type": "code",
   "metadata": {
    "id": "Toba6LVQDoeW",
    "ExecuteTime": {
     "end_time": "2025-08-04T19:50:50.877242Z",
     "start_time": "2025-08-04T19:50:50.872795Z"
    }
   },
   "source": [
    "xs = np.linspace(-3, 3, 1000)"
   ],
   "outputs": [],
   "execution_count": 4
  },
  {
   "cell_type": "markdown",
   "metadata": {
    "id": "Sazf_xu9DoeW"
   },
   "source": [
    "...while holding $y$ constant (e.g., at $y = 0$):"
   ]
  },
  {
   "cell_type": "code",
   "metadata": {
    "id": "9Z31rNZvDoeW",
    "ExecuteTime": {
     "end_time": "2025-08-04T19:51:25.538930Z",
     "start_time": "2025-08-04T19:51:25.535558Z"
    }
   },
   "source": [
    "zs_wrt_x = f(xs, 0)"
   ],
   "outputs": [],
   "execution_count": 5
  },
  {
   "cell_type": "code",
   "metadata": {
    "colab": {
     "base_uri": "https://localhost:8080/",
     "height": 279
    },
    "id": "qdZ6Rdr4DoeX",
    "outputId": "fc25527e-3fe2-46a6-fff1-d87a9d3239b7",
    "ExecuteTime": {
     "end_time": "2025-08-04T19:51:45.237104Z",
     "start_time": "2025-08-04T19:51:45.134537Z"
    }
   },
   "source": [
    "fig, ax = plt.subplots()\n",
    "plt.axvline(x=0, color='lightgray')\n",
    "plt.axhline(y=0, color='lightgray')\n",
    "\n",
    "plt.xlabel('x')\n",
    "plt.ylabel('z', rotation=0)\n",
    "_ = ax.plot(xs, zs_wrt_x)"
   ],
   "outputs": [
    {
     "data": {
      "text/plain": [
       "<Figure size 640x480 with 1 Axes>"
      ],
      "image/png": "[encoded data removed]"
     },
     "metadata": {},
     "output_type": "display_data"
    }
   ],
   "execution_count": 6
  },
  {
   "cell_type": "markdown",
   "metadata": {
    "id": "TctSbA-VDoeY"
   },
   "source": [
    "To determine the slope of $z$ w.r.t. $x$ at a given point along the curve, we can use the partial derivative from the slides: $$ \\frac{\\partial z}{\\partial x} = 2x$$"
   ]
  },
  {
   "cell_type": "code",
   "metadata": {
    "id": "WM2UTR4DDoeY",
    "ExecuteTime": {
     "end_time": "2025-08-04T19:52:34.778609Z",
     "start_time": "2025-08-04T19:52:34.775411Z"
    }
   },
   "source": [
    "def delz_delx(my_x, my_y): # y isn't relevant for *this* partial derivative; it often would be\n",
    "    return 2*my_x"
   ],
   "outputs": [],
   "execution_count": 8
  },
  {
   "cell_type": "code",
   "metadata": {
    "id": "NqarAEMODoeY",
    "ExecuteTime": {
     "end_time": "2025-08-04T19:52:42.269592Z",
     "start_time": "2025-08-04T19:52:42.266492Z"
    }
   },
   "source": [
    "x_samples = [-2, -1, 0, 1, 2]"
   ],
   "outputs": [],
   "execution_count": 9
  },
  {
   "cell_type": "code",
   "metadata": {
    "id": "ExzFLbjODoeY",
    "ExecuteTime": {
     "end_time": "2025-08-04T19:52:43.404708Z",
     "start_time": "2025-08-04T19:52:43.401743Z"
    }
   },
   "source": [
    "colors = ['red', 'orange', 'green', 'blue', 'purple']"
   ],
   "outputs": [],
   "execution_count": 10
  },
  {
   "cell_type": "code",
   "metadata": {
    "id": "rPeZ7Qf0DoeZ",
    "ExecuteTime": {
     "end_time": "2025-08-04T19:52:50.673337Z",
     "start_time": "2025-08-04T19:52:50.669606Z"
    }
   },
   "source": [
    "def point_and_tangent_wrt_x(my_xs, my_x, my_y, my_f, fprime, col):\n",
    "\n",
    "    my_z = my_f(my_x, my_y) # z = f(x, y) \n",
    "    plt.scatter(my_x, my_z, c=col, zorder=3) \n",
    "    \n",
    "    tangent_m = fprime(my_x, my_y) # Slope is partial derivative of f(x, y) w.r.t. x\n",
    "    tangent_b = my_z - tangent_m*my_x # Line is z=mx+b, so b=z-mx\n",
    "    tangent_line = tangent_m*my_xs + tangent_b\n",
    "    \n",
    "    plt.plot(my_xs, tangent_line, c=col, \n",
    "             linestyle='dashed', linewidth=0.7, zorder=3)"
   ],
   "outputs": [],
   "execution_count": 11
  },
  {
   "cell_type": "code",
   "metadata": {
    "colab": {
     "base_uri": "https://localhost:8080/",
     "height": 279
    },
    "id": "e3O2HIInDoeZ",
    "outputId": "c7cd75a8-888b-49a0-8262-e660ba93faa4"
   },
   "source": [
    "fig, ax = plt.subplots()\n",
    "plt.axvline(x=0, color='lightgray')\n",
    "plt.axhline(y=0, color='lightgray')\n",
    "\n",
    "for i, x in enumerate(x_samples):\n",
    "    point_and_tangent_wrt_x(xs, x, 0, f, delz_delx, colors[i])\n",
    "\n",
    "plt.ylim(-1, 9)\n",
    "plt.xlabel('x')\n",
    "plt.ylabel('z', rotation=0)\n",
    "_ = ax.plot(xs, zs_wrt_x)"
   ],
   "execution_count": 10,
   "outputs": [
    {
     "output_type": "display_data",
     "data": {
      "image/png": "[encoded data removed]",
      "text/plain": [
       "<Figure size 432x288 with 1 Axes>"
      ]
     },
     "metadata": {
      "needs_background": "light"
     }
    }
   ]
  },
  {
   "cell_type": "markdown",
   "metadata": {
    "id": "a8IJZYZfDoeZ"
   },
   "source": [
    "Thereby visually demonstrating $\\frac{\\partial z}{\\partial x} = 2x$. \n",
    "\n",
    "That is, the slope of $z$ along the $x$ axis is *twice* the $x$ value. "
   ]
  },
  {
   "cell_type": "markdown",
   "metadata": {
    "id": "3Vxr1W0IDoea"
   },
   "source": [
    "**Return to slides here.**"
   ]
  },
  {
   "cell_type": "markdown",
   "metadata": {
    "id": "ZEVnit5gDoea"
   },
   "source": [
    "Now let's plot $z$ with respect to $y$ by varying $y$..."
   ]
  },
  {
   "cell_type": "code",
   "metadata": {
    "id": "ZZF8285-Doea"
   },
   "source": [
    "ys = np.linspace(-3, 3, 1000)"
   ],
   "execution_count": 11,
   "outputs": []
  },
  {
   "cell_type": "markdown",
   "metadata": {
    "id": "CSzx8uhLDoea"
   },
   "source": [
    "...while holding $x$ constant (e.g., at $x$ = 0): "
   ]
  },
  {
   "cell_type": "code",
   "metadata": {
    "id": "D7L4yZ1aDoeb"
   },
   "source": [
    "zs_wrt_y = f(0, ys)"
   ],
   "execution_count": 12,
   "outputs": []
  },
  {
   "cell_type": "code",
   "metadata": {
    "colab": {
     "base_uri": "https://localhost:8080/",
     "height": 279
    },
    "id": "rGNORzJCDoeb",
    "outputId": "8a0a0131-f0ff-4826-c99f-5afcd248abfd"
   },
   "source": [
    "fig, ax = plt.subplots()\n",
    "plt.axvline(x=0, color='lightgray')\n",
    "plt.axhline(y=0, color='lightgray')\n",
    "\n",
    "plt.xlabel('y')\n",
    "plt.ylabel('z', rotation=0)\n",
    "_ = ax.plot(ys, zs_wrt_y)"
   ],
   "execution_count": 13,
   "outputs": [
    {
     "output_type": "display_data",
     "data": {
      "image/png": "[encoded data removed]",
      "text/plain": [
       "<Figure size 432x288 with 1 Axes>"
      ]
     },
     "metadata": {
      "needs_background": "light"
     }
    }
   ]
  },
  {
   "cell_type": "markdown",
   "metadata": {
    "id": "yftPl60zDoeb"
   },
   "source": [
    "As in the slides, the partial derivative of $z$ w.r.t $y$ happens to be independent of $x$ (just as we observed $x$ is independent of $y$ above), so while $z$ varies as a function of both $x$ and $y$, the slope of $z$ w.r.t $y$ is the same no matter what $x$ is: $$ \\frac{\\partial z}{\\partial y} = -2y $$"
   ]
  },
  {
   "cell_type": "markdown",
   "metadata": {
    "id": "xX3gAdyWDoec"
   },
   "source": [
    "So for example, holding $x$ constant at 2 instead of 0 increases $z$, but has no impact whatsoever on the slope of $z$ w.r.t. $y$: "
   ]
  },
  {
   "cell_type": "code",
   "metadata": {
    "id": "sdaSBdlrDoec"
   },
   "source": [
    "zs_wrt_y = f(2, ys)"
   ],
   "execution_count": 14,
   "outputs": []
  },
  {
   "cell_type": "code",
   "metadata": {
    "colab": {
     "base_uri": "https://localhost:8080/",
     "height": 279
    },
    "id": "5PW49KD7Doec",
    "outputId": "fc717b75-b0b0-4977-8baf-436526ae02a3"
   },
   "source": [
    "fig, ax = plt.subplots()\n",
    "plt.axvline(x=0, color='lightgray')\n",
    "plt.axhline(y=0, color='lightgray')\n",
    "\n",
    "plt.xlabel('y')\n",
    "plt.ylabel('z', rotation=0)\n",
    "_ = ax.plot(ys, zs_wrt_y)"
   ],
   "execution_count": 15,
   "outputs": [
    {
     "output_type": "display_data",
     "data": {
      "image/png": "[encoded data removed]",
      "text/plain": [
       "<Figure size 432x288 with 1 Axes>"
      ]
     },
     "metadata": {
      "needs_background": "light"
     }
    }
   ]
  },
  {
   "cell_type": "code",
   "metadata": {
    "id": "8vMax3uODoec"
   },
   "source": [
    "def delz_dely(my_x, my_y):\n",
    "    return -2*my_y"
   ],
   "execution_count": 16,
   "outputs": []
  },
  {
   "cell_type": "code",
   "metadata": {
    "id": "pkQ4GQyBDoed"
   },
   "source": [
    "y_samples = [-2, -1, 0, 1, 2]"
   ],
   "execution_count": 17,
   "outputs": []
  },
  {
   "cell_type": "code",
   "metadata": {
    "id": "YxsR448zDoed"
   },
   "source": [
    "def point_and_tangent_wrt_y(my_ys, my_x, my_y, my_f, fprime, col): # changed my_xs to my_ys\n",
    "\n",
    "    my_z = my_f(my_x, my_y) \n",
    "    plt.scatter(my_y, my_z, c=col, zorder=3) # changed my_x to my_y\n",
    "    \n",
    "    tangent_m = fprime(my_x, my_y) \n",
    "    tangent_b = my_z - tangent_m*my_y # changed my_x to my_y\n",
    "    tangent_line = tangent_m*my_ys + tangent_b # changed my_xs to my_ys\n",
    "    \n",
    "    plt.plot(my_ys, tangent_line, c=col, \n",
    "             linestyle='dashed', linewidth=0.7, zorder=3) # changed my_xs to my_ys"
   ],
   "execution_count": 18,
   "outputs": []
  },
  {
   "cell_type": "code",
   "metadata": {
    "colab": {
     "base_uri": "https://localhost:8080/",
     "height": 279
    },
    "id": "_8EXlci4Doed",
    "outputId": "aa4c98c5-4bea-4ff3-9943-d6fa1973864f"
   },
   "source": [
    "fig, ax = plt.subplots()\n",
    "plt.axvline(x=0, color='lightgray')\n",
    "plt.axhline(y=0, color='lightgray')\n",
    "\n",
    "for i, y in enumerate(y_samples):\n",
    "    point_and_tangent_wrt_y(ys, 2, y, f, delz_dely, colors[i])\n",
    "\n",
    "plt.ylim(-5, 5)\n",
    "plt.xlabel('y')\n",
    "plt.ylabel('z', rotation=0)\n",
    "_ = ax.plot(xs, zs_wrt_y)"
   ],
   "execution_count": 19,
   "outputs": [
    {
     "output_type": "display_data",
     "data": {
      "image/png": "[encoded data removed]",
      "text/plain": [
       "<Figure size 432x288 with 1 Axes>"
      ]
     },
     "metadata": {
      "needs_background": "light"
     }
    }
   ]
  },
  {
   "cell_type": "markdown",
   "metadata": {
    "id": "ZV2FTIU66UG-"
   },
   "source": [
    "Thereby visually demonstrating $\\frac{\\partial z}{\\partial y} = -2y$. \n",
    "\n",
    "That is, the slope of $z$ along the $y$ axis is *twice* the $y$ value *and inverted*, resulting in the parabolic curve opening downward."
   ]
  },
  {
   "cell_type": "markdown",
   "metadata": {
    "id": "V7P12cWuDoef"
   },
   "source": [
    "**Exercises**: Use pencil and paper to determine: \n",
    "\n",
    "* The value of $z$,\n",
    "* The slope of $z$ with respect to $x$, \n",
    "* And the slope of $z$ with respect to $y$\n",
    "\n",
    "...at the points where: \n",
    "\n",
    "1. $x = 3, y = 0$\n",
    "2. $x = 2, y = 3$\n",
    "3. $x = -2, y = -3$"
   ]
  },
  {
   "cell_type": "markdown",
   "metadata": {
    "id": "IwiI0uisDoeg"
   },
   "source": [
    "Determining partial derivatives by hand using rules is helpful for understanding how calculus works. In practice, however, autodiff enables us to do so more easily (especially if there are a large number of variables). For example, let's use the PyTorch automatic differentiation library to calculate the slope of $z$ with respect to both $x$ and $y$ at any given point $(x, y, z)$:"
   ]
  },
  {
   "cell_type": "code",
   "metadata": {
    "colab": {
     "base_uri": "https://localhost:8080/"
    },
    "id": "SHeFsRfrDoeg",
    "outputId": "df4dc534-155a-4092-d1cd-9aca6fd90c31",
    "ExecuteTime": {
     "end_time": "2025-08-04T19:55:35.044384Z",
     "start_time": "2025-08-04T19:55:35.007462Z"
    }
   },
   "source": [
    "x = torch.tensor(0.).requires_grad_() \n",
    "x"
   ],
   "outputs": [
    {
     "data": {
      "text/plain": [
       "tensor(0., requires_grad=True)"
      ]
     },
     "execution_count": 12,
     "metadata": {},
     "output_type": "execute_result"
    }
   ],
   "execution_count": 12
  },
  {
   "cell_type": "code",
   "metadata": {
    "colab": {
     "base_uri": "https://localhost:8080/"
    },
    "id": "WzWjTchwDoeg",
    "outputId": "163249ec-b6da-4823-ed21-135f07dec9bc",
    "ExecuteTime": {
     "end_time": "2025-08-04T19:55:42.888868Z",
     "start_time": "2025-08-04T19:55:42.883781Z"
    }
   },
   "source": [
    "y = torch.tensor(0.).requires_grad_() \n",
    "y"
   ],
   "outputs": [
    {
     "data": {
      "text/plain": [
       "tensor(0., requires_grad=True)"
      ]
     },
     "execution_count": 13,
     "metadata": {},
     "output_type": "execute_result"
    }
   ],
   "execution_count": 13
  },
  {
   "cell_type": "code",
   "metadata": {
    "colab": {
     "base_uri": "https://localhost:8080/"
    },
    "id": "B7TprOE-Doeh",
    "outputId": "d013b94c-f1cf-42de-8eb4-e2b8e9c6def2",
    "ExecuteTime": {
     "end_time": "2025-08-04T19:55:46.816845Z",
     "start_time": "2025-08-04T19:55:46.796168Z"
    }
   },
   "source": [
    "z = f(x, y) # Forward pass\n",
    "z"
   ],
   "outputs": [
    {
     "data": {
      "text/plain": [
       "tensor(0., grad_fn=<SubBackward0>)"
      ]
     },
     "execution_count": 14,
     "metadata": {},
     "output_type": "execute_result"
    }
   ],
   "execution_count": 14
  },
  {
   "cell_type": "code",
   "metadata": {
    "id": "GyefZb67Doeh",
    "ExecuteTime": {
     "end_time": "2025-08-04T19:55:49.978560Z",
     "start_time": "2025-08-04T19:55:49.957701Z"
    }
   },
   "source": [
    "z.backward() # Autodiff"
   ],
   "outputs": [],
   "execution_count": 15
  },
  {
   "cell_type": "markdown",
   "metadata": {
    "id": "_L7fUeBfDoeh"
   },
   "source": [
    "As we already knew from our exercises above, the slope of the point (0, 0, 0) is zero with respect to both the $x$ and $y$ axes: "
   ]
  },
  {
   "cell_type": "code",
   "metadata": {
    "colab": {
     "base_uri": "https://localhost:8080/"
    },
    "id": "VCX2ngT9Doeh",
    "outputId": "559ab351-8d5c-4159-f5a3-0f705f42bba4",
    "ExecuteTime": {
     "end_time": "2025-08-04T19:56:00.850999Z",
     "start_time": "2025-08-04T19:56:00.846722Z"
    }
   },
   "source": [
    "x.grad"
   ],
   "outputs": [
    {
     "data": {
      "text/plain": [
       "tensor(0.)"
      ]
     },
     "execution_count": 16,
     "metadata": {},
     "output_type": "execute_result"
    }
   ],
   "execution_count": 16
  },
  {
   "cell_type": "code",
   "metadata": {
    "colab": {
     "base_uri": "https://localhost:8080/"
    },
    "id": "1DeU2IYODoei",
    "outputId": "6eceaacb-4f52-449d-e04a-a0ab8c401420",
    "ExecuteTime": {
     "end_time": "2025-08-04T19:56:02.825608Z",
     "start_time": "2025-08-04T19:56:02.820985Z"
    }
   },
   "source": [
    "y.grad"
   ],
   "outputs": [
    {
     "data": {
      "text/plain": [
       "tensor(-0.)"
      ]
     },
     "execution_count": 17,
     "metadata": {},
     "output_type": "execute_result"
    }
   ],
   "execution_count": 17
  },
  {
   "cell_type": "markdown",
   "metadata": {
    "id": "Eblx3YW6Doei"
   },
   "source": [
    "**Exercise**: Repeat the most recent pencil-and-paper exercises using PyTorch (or TensorFlow, if you prefer)."
   ]
  },
  {
   "cell_type": "markdown",
   "metadata": {
    "id": "LPxR9412Doei"
   },
   "source": [
    "**Return to slides here.**"
   ]
  },
  {
   "cell_type": "markdown",
   "metadata": {
    "id": "3NqDfYGeDoej"
   },
   "source": [
    "### Partial Derivatives of a Cylinder's Volume"
   ]
  },
  {
   "cell_type": "markdown",
   "metadata": {
    "id": "8zOAmeOnDoej"
   },
   "source": [
    "The volume of a cylinder is described by $v = \\pi r^2 l$ where: \n",
    "\n",
    "* $r$ is the radius of the cylinder\n",
    "* $l$ is its length"
   ]
  },
  {
   "cell_type": "code",
   "metadata": {
    "id": "Y345YQ2iDoej",
    "ExecuteTime": {
     "end_time": "2025-08-04T19:56:21.399543Z",
     "start_time": "2025-08-04T19:56:21.395522Z"
    }
   },
   "source": [
    "def cylinder_vol(my_r, my_l):\n",
    "    return math.pi * my_r**2 * my_l"
   ],
   "outputs": [],
   "execution_count": 18
  },
  {
   "cell_type": "code",
   "metadata": {
    "colab": {
     "base_uri": "https://localhost:8080/"
    },
    "id": "6eGolCTLDoej",
    "outputId": "943dca09-0bea-4cbb-b089-dcb5c06ae879",
    "ExecuteTime": {
     "end_time": "2025-08-04T19:56:24.422757Z",
     "start_time": "2025-08-04T19:56:24.397536Z"
    }
   },
   "source": [
    "# Let's say the radius is 3 meters...\n",
    "r = torch.tensor(3.).requires_grad_()\n",
    "r"
   ],
   "outputs": [
    {
     "data": {
      "text/plain": [
       "tensor(3., requires_grad=True)"
      ]
     },
     "execution_count": 19,
     "metadata": {},
     "output_type": "execute_result"
    }
   ],
   "execution_count": 19
  },
  {
   "cell_type": "code",
   "metadata": {
    "colab": {
     "base_uri": "https://localhost:8080/"
    },
    "id": "sp3kUgQ6Doej",
    "outputId": "88edcfa6-3d3c-4c64-acac-bed2c4f9f017"
   },
   "source": [
    "# ...and length is 5 meters:\n",
    "l = torch.tensor(5.).requires_grad_()\n",
    "l"
   ],
   "execution_count": 28,
   "outputs": [
    {
     "output_type": "execute_result",
     "data": {
      "text/plain": [
       "tensor(5., requires_grad=True)"
      ]
     },
     "metadata": {},
     "execution_count": 28
    }
   ]
  },
  {
   "cell_type": "code",
   "metadata": {
    "colab": {
     "base_uri": "https://localhost:8080/"
    },
    "id": "5FBBkAM6Doek",
    "outputId": "ebdbb9be-32db-4ad0-c3c5-1fc3255d0843"
   },
   "source": [
    "# Then the volume of the cylinder is 141.4 cubic meters: \n",
    "v = cylinder_vol(r, l)\n",
    "v"
   ],
   "execution_count": 29,
   "outputs": [
    {
     "output_type": "execute_result",
     "data": {
      "text/plain": [
       "tensor(141.3717, grad_fn=<MulBackward0>)"
      ]
     },
     "metadata": {},
     "execution_count": 29
    }
   ]
  },
  {
   "cell_type": "code",
   "metadata": {
    "id": "0iGlPQyjDoek"
   },
   "source": [
    "v.backward()"
   ],
   "execution_count": 30,
   "outputs": []
  },
  {
   "cell_type": "code",
   "metadata": {
    "colab": {
     "base_uri": "https://localhost:8080/"
    },
    "id": "YvIA09YGDoek",
    "outputId": "167d0cba-4083-4b18-cf3c-685f4ae4799d"
   },
   "source": [
    "l.grad"
   ],
   "execution_count": 31,
   "outputs": [
    {
     "output_type": "execute_result",
     "data": {
      "text/plain": [
       "tensor(28.2743)"
      ]
     },
     "metadata": {},
     "execution_count": 31
    }
   ]
  },
  {
   "cell_type": "markdown",
   "metadata": {
    "id": "TYD2k4J3Doel"
   },
   "source": [
    "As derived on the slides: $$\\frac{\\partial v}{\\partial l} = \\pi r^2$$"
   ]
  },
  {
   "cell_type": "code",
   "metadata": {
    "colab": {
     "base_uri": "https://localhost:8080/"
    },
    "id": "q6YRwpMvDoel",
    "outputId": "ad1513dc-9d12-421e-f678-768ea34b376a"
   },
   "source": [
    "math.pi * 3**2"
   ],
   "execution_count": 32,
   "outputs": [
    {
     "output_type": "execute_result",
     "data": {
      "text/plain": [
       "28.274333882308138"
      ]
     },
     "metadata": {},
     "execution_count": 32
    }
   ]
  },
  {
   "cell_type": "markdown",
   "metadata": {
    "id": "UavsjoQFDoel"
   },
   "source": [
    "This means that with $r = 3$, a change in $l$ by one unit corresponds to a change in $v$ of 28.27$\\text{m}^3$. We can prove this to ourselves: "
   ]
  },
  {
   "cell_type": "code",
   "metadata": {
    "colab": {
     "base_uri": "https://localhost:8080/"
    },
    "id": "H32PplygDoel",
    "outputId": "d8aa066e-845f-409e-fc5b-0effbfc89dfc"
   },
   "source": [
    "cylinder_vol(3, 6)"
   ],
   "execution_count": 33,
   "outputs": [
    {
     "output_type": "execute_result",
     "data": {
      "text/plain": [
       "169.64600329384882"
      ]
     },
     "metadata": {},
     "execution_count": 33
    }
   ]
  },
  {
   "cell_type": "code",
   "metadata": {
    "colab": {
     "base_uri": "https://localhost:8080/"
    },
    "id": "vmwxrip1Doem",
    "outputId": "01d33fa2-9643-4651-f8ac-2d477a0ce96b"
   },
   "source": [
    "cylinder_vol(3, 6) - cylinder_vol(3, 5)"
   ],
   "execution_count": 34,
   "outputs": [
    {
     "output_type": "execute_result",
     "data": {
      "text/plain": [
       "28.274333882308127"
      ]
     },
     "metadata": {},
     "execution_count": 34
    }
   ]
  },
  {
   "cell_type": "code",
   "metadata": {
    "colab": {
     "base_uri": "https://localhost:8080/"
    },
    "id": "wGuDzwwxDoem",
    "outputId": "d94c0263-8313-401d-cc38-7740ddd9465d"
   },
   "source": [
    "cylinder_vol(3, 7) - cylinder_vol(3, 6)"
   ],
   "execution_count": 35,
   "outputs": [
    {
     "output_type": "execute_result",
     "data": {
      "text/plain": [
       "28.274333882308156"
      ]
     },
     "metadata": {},
     "execution_count": 35
    }
   ]
  },
  {
   "cell_type": "markdown",
   "metadata": {
    "id": "aDJydipwDoel"
   },
   "source": [
    "**Return to slides here.**"
   ]
  },
  {
   "cell_type": "markdown",
   "metadata": {
    "id": "yC4GJ8iZDoem"
   },
   "source": [
    "For changes in $v$ with respect to $r$ we have the following from the slides: $$\\frac{\\partial v}{\\partial r} = 2 \\pi r l$$"
   ]
  },
  {
   "cell_type": "code",
   "metadata": {
    "colab": {
     "base_uri": "https://localhost:8080/"
    },
    "id": "cAVbIBiCDoen",
    "outputId": "d3617c80-b132-4d5e-ac41-ddd2656afcdc"
   },
   "source": [
    "r.grad"
   ],
   "execution_count": 36,
   "outputs": [
    {
     "output_type": "execute_result",
     "data": {
      "text/plain": [
       "tensor(94.2478)"
      ]
     },
     "metadata": {},
     "execution_count": 36
    }
   ]
  },
  {
   "cell_type": "code",
   "metadata": {
    "colab": {
     "base_uri": "https://localhost:8080/"
    },
    "id": "UzHESN6XDoen",
    "outputId": "8b7cea78-2e75-42b3-e87a-099aee3ae11d"
   },
   "source": [
    "2 * math.pi * 3 * 5"
   ],
   "execution_count": 37,
   "outputs": [
    {
     "output_type": "execute_result",
     "data": {
      "text/plain": [
       "94.24777960769379"
      ]
     },
     "metadata": {},
     "execution_count": 37
    }
   ]
  },
  {
   "cell_type": "markdown",
   "metadata": {
    "id": "lWzx4YxuDoen"
   },
   "source": [
    "$r$ is included in the partial derivative so adjusting it affects the scale of its impact on $v$. Although it's our first example in this notebook, it is typical in calculus for the derivative only to apply at an infinitesimally small $\\Delta r$. The smaller the $\\Delta r$, the closer to the true $\\frac{\\partial v}{\\partial r}$. E.g., at $\\Delta r = 1 \\times 10^{-6}$:"
   ]
  },
  {
   "cell_type": "code",
   "metadata": {
    "id": "JN0waPUmDoen"
   },
   "source": [
    "delta = 1e-6"
   ],
   "execution_count": 38,
   "outputs": []
  },
  {
   "cell_type": "code",
   "metadata": {
    "colab": {
     "base_uri": "https://localhost:8080/"
    },
    "id": "BCk5RPL8Doeo",
    "outputId": "2f980253-6e39-4320-876e-757bdec33697"
   },
   "source": [
    "(cylinder_vol(3 + delta, 5) - cylinder_vol(3, 5)) / delta # Dividing by delta restores scale"
   ],
   "execution_count": 39,
   "outputs": [
    {
     "output_type": "execute_result",
     "data": {
      "text/plain": [
       "94.24779531741478"
      ]
     },
     "metadata": {},
     "execution_count": 39
    }
   ]
  },
  {
   "cell_type": "markdown",
   "metadata": {
    "id": "v4U_lu-yDoeo"
   },
   "source": [
    "**Return to slides here.**"
   ]
  },
  {
   "cell_type": "markdown",
   "metadata": {
    "id": "3CKfShVZDoeo"
   },
   "source": [
    "### Gradients of Cost w.r.t. Model Parameters"
   ]
  },
  {
   "cell_type": "markdown",
   "metadata": {
    "id": "XbAlp7N3Doeo"
   },
   "source": [
    "See the standalone notebooks: \n",
    "\n",
    "* [Single-Point Regression Gradient](https://github.com/jonkrohn/ML-foundations/blob/master/notebooks/single-point-regression-gradient.ipynb)\n",
    "* [Batch Regression Gradient](https://github.com/jonkrohn/ML-foundations/blob/master/notebooks/batch-regression-gradient.ipynb)"
   ]
  },
  {
   "cell_type": "markdown",
   "metadata": {
    "id": "8GkxmPtUDoeo"
   },
   "source": [
    "## Segment 3: Integrals"
   ]
  },
  {
   "cell_type": "code",
   "metadata": {
    "id": "7RNXGSU_Doep"
   },
   "source": [
    "from scipy.integrate import quad # \"quadrature\" = numerical integration (as opposed to symbolic)"
   ],
   "execution_count": 40,
   "outputs": []
  },
  {
   "cell_type": "markdown",
   "metadata": {
    "id": "0gcCUd4QDoep"
   },
   "source": [
    "From the slides: $$ \\int_1^2 \\frac{x}{2} dx = \\frac{3}{4} $$"
   ]
  },
  {
   "cell_type": "code",
   "metadata": {
    "id": "lQSGdUlIDoep"
   },
   "source": [
    "def g(x):\n",
    "    return x/2"
   ],
   "execution_count": 41,
   "outputs": []
  },
  {
   "cell_type": "code",
   "metadata": {
    "colab": {
     "base_uri": "https://localhost:8080/"
    },
    "id": "Ifu7x0iRDoep",
    "outputId": "cc0b40e2-6a61-4662-e835-16ddbbc3c378"
   },
   "source": [
    "quad(g, 1, 2) "
   ],
   "execution_count": 42,
   "outputs": [
    {
     "output_type": "execute_result",
     "data": {
      "text/plain": [
       "(0.75, 8.326672684688674e-15)"
      ]
     },
     "metadata": {},
     "execution_count": 42
    }
   ]
  },
  {
   "cell_type": "markdown",
   "metadata": {
    "id": "HfwAbtc5Doep"
   },
   "source": [
    "The second output of `quad` is an estimate of the absolute error of the integral, which in this case is essentially zero."
   ]
  },
  {
   "cell_type": "markdown",
   "metadata": {
    "id": "By-nY8jBDoeq"
   },
   "source": [
    "**Return to the slides here.**"
   ]
  },
  {
   "cell_type": "code",
   "metadata": {
    "id": "BXY-74QaDoeq"
   },
   "source": [
    "def h(x):\n",
    "    return 2*x"
   ],
   "execution_count": 43,
   "outputs": []
  },
  {
   "cell_type": "code",
   "metadata": {
    "colab": {
     "base_uri": "https://localhost:8080/"
    },
    "id": "A26vlFzCDoeq",
    "outputId": "a1554c68-3084-4358-f1f7-322219ec2eb9"
   },
   "source": [
    "quad(h, 3, 4)"
   ],
   "execution_count": 44,
   "outputs": [
    {
     "output_type": "execute_result",
     "data": {
      "text/plain": [
       "(7.0, 7.771561172376096e-14)"
      ]
     },
     "metadata": {},
     "execution_count": 44
    }
   ]
  },
  {
   "cell_type": "markdown",
   "metadata": {
    "id": "Crw18QJv7oY3"
   },
   "source": [
    "**Return to the slides here.**"
   ]
  },
  {
   "cell_type": "markdown",
   "metadata": {
    "id": "AAmdDoskDoeq"
   },
   "source": [
    "### Area Under the ROC Curve"
   ]
  },
  {
   "cell_type": "markdown",
   "metadata": {
    "id": "j_wFvlHEDoeq"
   },
   "source": [
    "When we don't have a function but we do have $(x, y)$ coordinates, we can use the scikit-learn library's `auc()` method, which uses a numerical approach (the [trapezoidal rule](https://en.wikipedia.org/wiki/Trapezoidal_rule)) to find the area under the curve described by the coordinates: "
   ]
  },
  {
   "cell_type": "code",
   "metadata": {
    "id": "_X0uiqKLDoeq"
   },
   "source": [
    "from sklearn.metrics import auc"
   ],
   "execution_count": 45,
   "outputs": []
  },
  {
   "cell_type": "markdown",
   "metadata": {
    "id": "XilqUs--Doer"
   },
   "source": [
    "From the slides, the $(x, y)$ coordinates of our hot dog-detecting ROC curve are: \n",
    "\n",
    "* (0, 0)\n",
    "* (0, 0.5)\n",
    "* (0.5, 0.5)\n",
    "* (0.5, 1)\n",
    "* (1, 1)"
   ]
  },
  {
   "cell_type": "code",
   "metadata": {
    "id": "yu9wg0aoDoer"
   },
   "source": [
    "xs = [0, 0,   0.5, 0.5, 1]\n",
    "ys = [0, 0.5, 0.5, 1,   1]"
   ],
   "execution_count": 46,
   "outputs": []
  },
  {
   "cell_type": "code",
   "metadata": {
    "colab": {
     "base_uri": "https://localhost:8080/"
    },
    "id": "BwnqDGueDoer",
    "outputId": "9a1ba72e-0bc6-41e9-9d2f-ee2583fffa3a"
   },
   "source": [
    "auc(xs, ys)"
   ],
   "execution_count": 47,
   "outputs": [
    {
     "output_type": "execute_result",
     "data": {
      "text/plain": [
       "0.75"
      ]
     },
     "metadata": {},
     "execution_count": 47
    }
   ]
  }
 ]
}
